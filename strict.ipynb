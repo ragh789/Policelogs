{
 "cells": [
  {
   "cell_type": "code",
   "execution_count": 3,
   "id": "9c323d0e",
   "metadata": {},
   "outputs": [],
   "source": [
    "import sqlite3\n",
    "import pandas as pd\n",
    "# ----------------- Load & Store Data into SQLite ----------------- #\n",
    "def load_and_store_data():\n",
    "    df = pd.read_csv(r\"F:/GUVI/traffic_stops - traffic_stops_with_vehicle_number_raw_data.csv\", low_memory=False)\n",
    "\n",
    "    df['timestamp'] = pd.to_datetime(df['stop_date'] + ' ' + df['stop_time'], errors='coerce')\n",
    "    df.drop(columns=['stop_date', 'stop_time', 'driver_age_raw'], inplace=True)\n",
    "\n",
    "    df = df[['country_name', 'driver_gender', 'driver_age', 'driver_race', 'violation_raw', 'violation',\n",
    "             'search_conducted', 'search_type', 'stop_outcome', 'is_arrested', 'stop_duration',\n",
    "             'vehicle_number', 'drugs_related_stop', 'timestamp']]\n",
    "\n",
    "    df.to_csv(\"F:/GUVI/traffic_stops_cleaned_important54.csv\", index=False)\n",
    "\n",
    "    conn = sqlite3.connect(\"traffic_stops.db\", check_same_thread=False)\n",
    "    df.to_sql(\"police\", conn, if_exists=\"replace\", index=False)\n",
    "    return conn\n",
    "\n",
    "# ----------------- Initialize DB Connection ----------------- #\n",
    "conn = load_and_store_data()\n",
    "\n",
    "\n",
    "\n",
    "\n"
   ]
  }
 ],
 "metadata": {
  "kernelspec": {
   "display_name": ".venv",
   "language": "python",
   "name": "python3"
  },
  "language_info": {
   "codemirror_mode": {
    "name": "ipython",
    "version": 3
   },
   "file_extension": ".py",
   "mimetype": "text/x-python",
   "name": "python",
   "nbconvert_exporter": "python",
   "pygments_lexer": "ipython3",
   "version": "3.12.10"
  }
 },
 "nbformat": 4,
 "nbformat_minor": 5
}
